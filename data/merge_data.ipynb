{
 "cells": [
  {
   "cell_type": "code",
   "execution_count": 1,
   "id": "24b32e14",
   "metadata": {},
   "outputs": [],
   "source": [
    "import json"
   ]
  },
  {
   "cell_type": "code",
   "execution_count": 2,
   "id": "e7de8395",
   "metadata": {},
   "outputs": [],
   "source": [
    "with open('train.json', 'r', encoding='utf-8') as f1:\n",
    "    data1 = json.load(f1)"
   ]
  },
  {
   "cell_type": "code",
   "execution_count": 3,
   "id": "7538a187",
   "metadata": {},
   "outputs": [],
   "source": [
    "with open('train_converted.json', 'r', encoding='utf-8') as f2:\n",
    "    data2 = json.load(f2)"
   ]
  },
  {
   "cell_type": "code",
   "execution_count": 4,
   "id": "edbee341",
   "metadata": {},
   "outputs": [],
   "source": [
    "merged_data = []"
   ]
  },
  {
   "cell_type": "code",
   "execution_count": 5,
   "id": "54277905",
   "metadata": {},
   "outputs": [],
   "source": [
    "merged_data.extend(data1)\n",
    "merged_data.extend(data2)"
   ]
  },
  {
   "cell_type": "code",
   "execution_count": 6,
   "id": "b4843c71",
   "metadata": {},
   "outputs": [],
   "source": [
    "with open('train_merged.json', 'w', encoding='utf-8') as f:\n",
    "    json.dump(merged_data, f, ensure_ascii=False, indent=4)"
   ]
  },
  {
   "cell_type": "code",
   "execution_count": null,
   "id": "77d58414",
   "metadata": {},
   "outputs": [],
   "source": []
  }
 ],
 "metadata": {
  "kernelspec": {
   "display_name": "Python 3 (ipykernel)",
   "language": "python",
   "name": "python3"
  },
  "language_info": {
   "codemirror_mode": {
    "name": "ipython",
    "version": 3
   },
   "file_extension": ".py",
   "mimetype": "text/x-python",
   "name": "python",
   "nbconvert_exporter": "python",
   "pygments_lexer": "ipython3",
   "version": "3.9.13"
  }
 },
 "nbformat": 4,
 "nbformat_minor": 5
}
