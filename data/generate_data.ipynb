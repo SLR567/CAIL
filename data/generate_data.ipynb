{
 "cells": [
  {
   "cell_type": "code",
   "execution_count": 1,
   "id": "8ab6c982",
   "metadata": {},
   "outputs": [],
   "source": [
    "import json\n",
    "import re"
   ]
  },
  {
   "cell_type": "code",
   "execution_count": 2,
   "id": "6675ad12",
   "metadata": {},
   "outputs": [],
   "source": [
    "with open('big_train_data.json', 'r', encoding='utf-8') as f:\n",
    "    data = json.load(f)"
   ]
  },
  {
   "cell_type": "code",
   "execution_count": 3,
   "id": "eaaa824c",
   "metadata": {},
   "outputs": [],
   "source": [
    "new_data = []\n",
    "iii=0\n",
    "for item in data['data']:\n",
    "    paragraphs = item['paragraphs']\n",
    "    for idx, paragraph in enumerate(paragraphs):\n",
    "        qas = paragraph['qas']\n",
    "        if len(qas) > 0 and len(qas[0]['answers']) > 0:\n",
    "            context=paragraph['context']\n",
    "            context=context.replace(',','，')\n",
    "            sentences = [sentence.strip() for sentence in re.split('，', context) if sentence.strip()]\n",
    "            answer_start = qas[0]['answers'][0]['answer_start']\n",
    "            answer_line = 0\n",
    "            line_start = 0\n",
    "            for i, sentence in enumerate(sentences):\n",
    "                line_end = line_start + len(sentence)\n",
    "                if line_start <= answer_start < line_end:\n",
    "                    answer_line = i\n",
    "                    break\n",
    "                line_start = line_end\n",
    "            new_item = {\n",
    "                #'_id': idx,\n",
    "                '_id': 5054+iii,\n",
    "                'context': [\n",
    "                    [\n",
    "                        paragraph['casename'],\n",
    "                        sentences\n",
    "                    ]\n",
    "                ],\n",
    "                'question': qas[0]['question'],\n",
    "                'answer': qas[0]['answers'][0]['text'],\n",
    "                'supporting_facts': [\n",
    "                    [\n",
    "                        \"经审理查明，\",\n",
    "                        answer_line\n",
    "                    ]\n",
    "                ]\n",
    "            }\n",
    "            new_data.append(new_item)\n",
    "            iii=iii+1\n"
   ]
  },
  {
   "cell_type": "code",
   "execution_count": 4,
   "id": "3c592be6",
   "metadata": {},
   "outputs": [],
   "source": [
    "# 保存为新的JSON文件\n",
    "with open('train_converted.json', 'w', encoding='utf-8') as f:\n",
    "    json.dump(new_data, f, ensure_ascii=False, indent=4)"
   ]
  },
  {
   "cell_type": "code",
   "execution_count": null,
   "id": "32423bd5",
   "metadata": {},
   "outputs": [],
   "source": []
  },
  {
   "cell_type": "code",
   "execution_count": null,
   "id": "91907303",
   "metadata": {},
   "outputs": [],
   "source": []
  },
  {
   "cell_type": "code",
   "execution_count": null,
   "id": "6af3724e",
   "metadata": {},
   "outputs": [],
   "source": []
  },
  {
   "cell_type": "code",
   "execution_count": null,
   "id": "b62bb40c",
   "metadata": {},
   "outputs": [],
   "source": []
  },
  {
   "cell_type": "code",
   "execution_count": null,
   "id": "c9a28ee4",
   "metadata": {},
   "outputs": [],
   "source": []
  }
 ],
 "metadata": {
  "kernelspec": {
   "display_name": "Python 3 (ipykernel)",
   "language": "python",
   "name": "python3"
  },
  "language_info": {
   "codemirror_mode": {
    "name": "ipython",
    "version": 3
   },
   "file_extension": ".py",
   "mimetype": "text/x-python",
   "name": "python",
   "nbconvert_exporter": "python",
   "pygments_lexer": "ipython3",
   "version": "3.9.13"
  }
 },
 "nbformat": 4,
 "nbformat_minor": 5
}
